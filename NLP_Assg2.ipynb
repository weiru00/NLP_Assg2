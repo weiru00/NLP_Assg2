{
  "cells": [
    {
      "cell_type": "markdown",
      "metadata": {
        "id": "view-in-github",
        "colab_type": "text"
      },
      "source": [
        "<a href=\"https://colab.research.google.com/github/weiru00/NLP_Assg2/blob/main/NLP_Assg2.ipynb\" target=\"_parent\"><img src=\"https://colab.research.google.com/assets/colab-badge.svg\" alt=\"Open In Colab\"/></a>"
      ]
    },
    {
      "cell_type": "markdown",
      "source": [
        " **Reading Training Dataset**"
      ],
      "metadata": {
        "id": "XfC9E6SrC_Sa"
      }
    },
    {
      "cell_type": "code",
      "execution_count": 94,
      "metadata": {
        "id": "F3fymAfpC_eD"
      },
      "outputs": [],
      "source": [
        "train_en = open(\"/content/drive/MyDrive/NLP_Assg2/data/data/train.en\").read()\n",
        "train_my = open(\"/content/drive/MyDrive/NLP_Assg2/data/data/train.my\").read()\n",
        "train_cl = open(\"/content/drive/MyDrive/NLP_Assg2/data/data/train.cl\").read()"
      ]
    },
    {
      "cell_type": "code",
      "execution_count": 95,
      "metadata": {
        "id": "yZHbw34UMCGK"
      },
      "outputs": [],
      "source": [
        "# Convert strings into list\n",
        "train_en = list(train_en.splitlines())\n",
        "train_my = list(train_my.splitlines())\n",
        "train_cl = list(train_cl.splitlines())"
      ]
    },
    {
      "cell_type": "markdown",
      "source": [
        "**Tokenization**"
      ],
      "metadata": {
        "id": "gOCQYmCTDQk1"
      }
    },
    {
      "cell_type": "code",
      "execution_count": 96,
      "metadata": {
        "id": "mrHN6XpOH8zd"
      },
      "outputs": [],
      "source": [
        "import nltk\n",
        "from nltk.tokenize import TweetTokenizer"
      ]
    },
    {
      "cell_type": "code",
      "source": [
        "tokenizer = TweetTokenizer()"
      ],
      "metadata": {
        "id": "GyNwXQjOX2OU"
      },
      "execution_count": 97,
      "outputs": []
    },
    {
      "cell_type": "code",
      "source": [
        "train_en_tokens = [tokenizer.tokenize(s) for s in train_en]\n",
        "train_my_tokens = [tokenizer.tokenize(s) for s in train_my]"
      ],
      "metadata": {
        "id": "bV4mFiINOFVe"
      },
      "execution_count": 98,
      "outputs": []
    },
    {
      "cell_type": "code",
      "source": [
        "from keras.preprocessing.text import Tokenizer\n",
        "\n",
        "# Initialize the Tokenizer\n",
        "tokenizer_k = Tokenizer()"
      ],
      "metadata": {
        "id": "4LHFomPvBvsR"
      },
      "execution_count": 99,
      "outputs": []
    },
    {
      "cell_type": "code",
      "source": [
        "# This section is to convert tokens to sequences to fit in the NN model later\n",
        "# Fit the tokenizer on your training data\n",
        "tokenizer_k.fit_on_texts(train_en_tokens + train_my_tokens) ##NOT USEFUL???\n",
        "\n",
        "# Convert the tokens to sequences\n",
        "train_en_sequences = tokenizer_k.texts_to_sequences(train_en_tokens)\n",
        "train_my_sequences = tokenizer_k.texts_to_sequences(train_my_tokens)"
      ],
      "metadata": {
        "id": "zEiJTNGWB15B"
      },
      "execution_count": 100,
      "outputs": []
    },
    {
      "cell_type": "code",
      "source": [
        "max_length = max(map(len, train_en_sequences + train_my_sequences))\n",
        "print(max_length)"
      ],
      "metadata": {
        "colab": {
          "base_uri": "https://localhost:8080/"
        },
        "id": "V2hjYB_zDnlZ",
        "outputId": "62d09f54-2817-4504-f7e0-b2e1daabccf8"
      },
      "execution_count": 101,
      "outputs": [
        {
          "output_type": "stream",
          "name": "stdout",
          "text": [
            "548\n"
          ]
        }
      ]
    },
    {
      "cell_type": "code",
      "source": [
        "from keras_preprocessing.sequence import pad_sequences\n",
        "\n",
        "#  Pad the sequence to make them having the same length\n",
        "train_en_sequences = pad_sequences(train_en_sequences, maxlen=max_length)\n",
        "train_my_sequences = pad_sequences(train_my_sequences, maxlen=max_length)"
      ],
      "metadata": {
        "id": "6mydGz2oLjnb"
      },
      "execution_count": 102,
      "outputs": []
    },
    {
      "cell_type": "code",
      "source": [
        "len(train_my_sequences)"
      ],
      "metadata": {
        "id": "FA7WRtxCSAF2",
        "colab": {
          "base_uri": "https://localhost:8080/"
        },
        "outputId": "4f9a0e9b-0885-43ad-bc81-a6567461025a"
      },
      "execution_count": 103,
      "outputs": [
        {
          "output_type": "execute_result",
          "data": {
            "text/plain": [
              "150000"
            ]
          },
          "metadata": {},
          "execution_count": 103
        }
      ]
    },
    {
      "cell_type": "code",
      "source": [
        "train_my_sequences"
      ],
      "metadata": {
        "colab": {
          "base_uri": "https://localhost:8080/"
        },
        "id": "oC4dwNg9vuXe",
        "outputId": "adbba207-8f5d-4446-922a-7fa3420a569c"
      },
      "execution_count": 104,
      "outputs": [
        {
          "output_type": "execute_result",
          "data": {
            "text/plain": [
              "array([[    0,     0,     0, ...,  2222,    37,  2434],\n",
              "       [    0,     0,     0, ...,  2222,    37,  2434],\n",
              "       [    0,     0,     0, ...,    17,  5363,    36],\n",
              "       ...,\n",
              "       [    0,     0,     0, ...,  1945,  5269,     1],\n",
              "       [    0,     0,     0, ...,    13, 24349,     1],\n",
              "       [    0,     0,     0, ...,    13, 24349,     1]], dtype=int32)"
            ]
          },
          "metadata": {},
          "execution_count": 104
        }
      ]
    },
    {
      "cell_type": "code",
      "source": [
        "# train_df = pd.DataFrame({'train_en_tokens' : train_en_tokens,\n",
        "#                          'train_my_tokens' : train_my_tokens,\n",
        "#                           'train_cl' : train_cl,}, \n",
        "#                           columns=['train_en_tokens','train_my_tokens', 'train_cl'])"
      ],
      "metadata": {
        "id": "yznU2boNTDby"
      },
      "execution_count": 105,
      "outputs": []
    },
    {
      "cell_type": "code",
      "source": [
        "len(vocab_tokens)"
      ],
      "metadata": {
        "colab": {
          "base_uri": "https://localhost:8080/"
        },
        "id": "z5wrRIOp5Ku5",
        "outputId": "ed13af9b-d88d-44b6-c96a-3d7e07a77272"
      },
      "execution_count": 106,
      "outputs": [
        {
          "output_type": "execute_result",
          "data": {
            "text/plain": [
              "300000"
            ]
          },
          "metadata": {},
          "execution_count": 106
        }
      ]
    },
    {
      "cell_type": "code",
      "source": [
        "# combine two languages tokens\n",
        "vocab_tokens = train_en_tokens + train_my_tokens\n",
        "\n",
        "# get the vocab size for the combined lists\n",
        "vocab_size = len(set(str(x) for x in vocab_tokens))\n",
        "print(vocab_size)"
      ],
      "metadata": {
        "id": "DHcmAbD-HhFi",
        "colab": {
          "base_uri": "https://localhost:8080/"
        },
        "outputId": "150c3a07-e4d2-4f63-a36e-6fdcc0f4fe54"
      },
      "execution_count": 107,
      "outputs": [
        {
          "output_type": "stream",
          "name": "stdout",
          "text": [
            "180824\n"
          ]
        }
      ]
    },
    {
      "cell_type": "code",
      "source": [
        "from gensim.models import Word2Vec\n",
        "\n",
        "model = Word2Vec(vocab_tokens, min_count=1, size=300, window=5, sg=1, workers=4)\n",
        "\n",
        "# train the model\n",
        "model.train(vocab_tokens, total_examples=len(vocab_tokens), epochs=20)"
      ],
      "metadata": {
        "colab": {
          "base_uri": "https://localhost:8080/"
        },
        "id": "BJT7_Uri6tmL",
        "outputId": "0cede461-de8f-4e79-901c-cc868d2650c0"
      },
      "execution_count": 108,
      "outputs": [
        {
          "output_type": "stream",
          "name": "stderr",
          "text": [
            "WARNING:gensim.models.base_any2vec:Effective 'alpha' higher than previous training cycles\n"
          ]
        },
        {
          "output_type": "execute_result",
          "data": {
            "text/plain": [
              "(56328209, 68905600)"
            ]
          },
          "metadata": {},
          "execution_count": 108
        }
      ]
    },
    {
      "cell_type": "code",
      "source": [
        "embedding_dim = model.wv.vector_size"
      ],
      "metadata": {
        "id": "1UUNY0CaHEH3"
      },
      "execution_count": 109,
      "outputs": []
    },
    {
      "cell_type": "code",
      "source": [
        "print(embedding_dim)"
      ],
      "metadata": {
        "colab": {
          "base_uri": "https://localhost:8080/"
        },
        "id": "Ir_bUM3a5SfO",
        "outputId": "18a1411e-f0ab-406f-81e6-826064190df7"
      },
      "execution_count": 110,
      "outputs": [
        {
          "output_type": "stream",
          "name": "stdout",
          "text": [
            "300\n"
          ]
        }
      ]
    },
    {
      "cell_type": "markdown",
      "source": [
        "Compare model trained and pretrained model"
      ],
      "metadata": {
        "id": "2YmVYwn0gKSy"
      }
    },
    {
      "cell_type": "code",
      "source": [
        "# from gensim.models import KeyedVectors\n",
        "# model_compare = KeyedVectors.load_word2vec_format('/content/drive/MyDrive/data/GoogleNews-vectors-negative300.bin', binary=True)"
      ],
      "metadata": {
        "id": "WuKZxI-HYXYo"
      },
      "execution_count": 111,
      "outputs": []
    },
    {
      "cell_type": "code",
      "source": [
        "# print(model.wv.similarity('have', 'got'))"
      ],
      "metadata": {
        "id": "oxD-htX2AIqc"
      },
      "execution_count": 112,
      "outputs": []
    },
    {
      "cell_type": "code",
      "source": [
        "# print(model_compare.wv.similarity('have', 'got'))"
      ],
      "metadata": {
        "id": "vK6KsQnhdKDN"
      },
      "execution_count": 113,
      "outputs": []
    },
    {
      "cell_type": "markdown",
      "source": [
        "Build NN model"
      ],
      "metadata": {
        "id": "2F01T6R1npuZ"
      }
    },
    {
      "cell_type": "code",
      "source": [
        "from keras.layers import Input, LSTM, Embedding, Dot, Concatenate, Dense, Lambda\n",
        "from keras.models import Model"
      ],
      "metadata": {
        "id": "dstzBfM8nrTy"
      },
      "execution_count": 114,
      "outputs": []
    },
    {
      "cell_type": "code",
      "source": [
        "# define the input layers for the two language data\n",
        "input_en = Input(shape=(max_length,))\n",
        "input_my = Input(shape=(max_length,))"
      ],
      "metadata": {
        "id": "Z_OdxSEC5Zk0"
      },
      "execution_count": 115,
      "outputs": []
    },
    {
      "cell_type": "code",
      "source": [
        "# Define the embedding layer, with a fixed vocabulary size and embedding dimension\n",
        "embedding_layer = Embedding(vocab_size, embedding_dim, input_length=max_length)\n",
        "\n",
        "# Apply the embedding layer to the input layers\n",
        "embedded_en = embedding_layer(input_en)\n",
        "embedded_my = embedding_layer(input_my)"
      ],
      "metadata": {
        "id": "18gRjFTeRePq"
      },
      "execution_count": 116,
      "outputs": []
    },
    {
      "cell_type": "code",
      "source": [
        "# Define the LSTM cells for the Siamese RNN\n",
        "lstm_layer = LSTM(64)"
      ],
      "metadata": {
        "id": "rPGmRrLHTgzM"
      },
      "execution_count": 117,
      "outputs": []
    },
    {
      "cell_type": "code",
      "source": [
        "# Apply the LSTM cells to the embedded input layers\n",
        "encoded_en = lstm_layer(embedded_en)\n",
        "encoded_my = lstm_layer(embedded_my)"
      ],
      "metadata": {
        "id": "Ygi2QRXbTka4"
      },
      "execution_count": 118,
      "outputs": []
    },
    {
      "cell_type": "code",
      "source": [
        "# Define the distance function\n",
        "distance = Lambda(function=lambda x: abs(x[0] - x[1]), output_shape=lambda x: x[0])([encoded_en, encoded_my])"
      ],
      "metadata": {
        "id": "a9xyjQNYUGBN"
      },
      "execution_count": 119,
      "outputs": []
    },
    {
      "cell_type": "code",
      "source": [
        "# Define the output layer\n",
        "output = Dense(1, activation='sigmoid')(distance)"
      ],
      "metadata": {
        "id": "7wXAbY73VEiB"
      },
      "execution_count": 120,
      "outputs": []
    },
    {
      "cell_type": "code",
      "source": [
        "# Create the model\n",
        "model_nn = Model(inputs=[input_en, input_my], outputs=output)\n",
        "model_nn.compile(optimizer='adam', loss='binary_crossentropy', metrics=['accuracy'])"
      ],
      "metadata": {
        "id": "jBalJlbpVLJu"
      },
      "execution_count": 121,
      "outputs": []
    },
    {
      "cell_type": "code",
      "source": [
        "from keras.callbacks import ModelCheckpoint\n",
        "\n",
        "checkpoint_path = \"/content/drive/MyDrive/NLP_Assg2/Models/model_{epoch:02d}.h5\"\n",
        "\n",
        "# Create a ModelCheckpoint object\n",
        "checkpoint = ModelCheckpoint(filepath=checkpoint_path, save_weights_only=False, save_freq='epoch')"
      ],
      "metadata": {
        "id": "PEaghFkZXiHW"
      },
      "execution_count": 122,
      "outputs": []
    },
    {
      "cell_type": "code",
      "source": [
        "import numpy as np"
      ],
      "metadata": {
        "id": "PRx4IN-OvZy6"
      },
      "execution_count": 123,
      "outputs": []
    },
    {
      "cell_type": "code",
      "source": [
        "model_nn.summary()"
      ],
      "metadata": {
        "colab": {
          "base_uri": "https://localhost:8080/"
        },
        "id": "o2OTeWOx4g0M",
        "outputId": "9335bd3b-74e5-41af-ab23-8331af454112"
      },
      "execution_count": 124,
      "outputs": [
        {
          "output_type": "stream",
          "name": "stdout",
          "text": [
            "Model: \"model_2\"\n",
            "__________________________________________________________________________________________________\n",
            " Layer (type)                   Output Shape         Param #     Connected to                     \n",
            "==================================================================================================\n",
            " input_7 (InputLayer)           [(None, 548)]        0           []                               \n",
            "                                                                                                  \n",
            " input_8 (InputLayer)           [(None, 548)]        0           []                               \n",
            "                                                                                                  \n",
            " embedding_2 (Embedding)        (None, 548, 300)     54247200    ['input_7[0][0]',                \n",
            "                                                                  'input_8[0][0]']                \n",
            "                                                                                                  \n",
            " lstm_2 (LSTM)                  (None, 64)           93440       ['embedding_2[0][0]',            \n",
            "                                                                  'embedding_2[1][0]']            \n",
            "                                                                                                  \n",
            " lambda_2 (Lambda)              (None, 64)           0           ['lstm_2[0][0]',                 \n",
            "                                                                  'lstm_2[1][0]']                 \n",
            "                                                                                                  \n",
            " dense_2 (Dense)                (None, 1)            65          ['lambda_2[0][0]']               \n",
            "                                                                                                  \n",
            "==================================================================================================\n",
            "Total params: 54,340,705\n",
            "Trainable params: 54,340,705\n",
            "Non-trainable params: 0\n",
            "__________________________________________________________________________________________________\n"
          ]
        }
      ]
    },
    {
      "cell_type": "code",
      "source": [
        "# Train the model\n",
        "model_nn.fit([train_en_sequences, train_my_sequences], np.array(train_cl).astype(int), epochs=5, batch_size=32)\n"
      ],
      "metadata": {
        "id": "mY8YJaU1Vhoe",
        "colab": {
          "base_uri": "https://localhost:8080/"
        },
        "outputId": "c3d25bfc-af23-474e-a360-96a04e5f23b8"
      },
      "execution_count": null,
      "outputs": [
        {
          "output_type": "stream",
          "name": "stdout",
          "text": [
            "Epoch 1/5\n",
            "4688/4688 [==============================] - 8488s 2s/step - loss: 0.2499 - accuracy: 0.8965\n",
            "Epoch 2/5\n",
            "1231/4688 [======>.......................] - ETA: 1:43:37 - loss: 0.0991 - accuracy: 0.9660"
          ]
        }
      ]
    },
    {
      "cell_type": "code",
      "source": [
        "# print(np.shape(train_en_sequences))\n",
        "# print(np.shape(train_my_sequences))\n",
        "# print(np.shape(train_cl))"
      ],
      "metadata": {
        "id": "fBfOrkA17Fc-"
      },
      "execution_count": null,
      "outputs": []
    },
    {
      "cell_type": "markdown",
      "source": [
        "**Reading Validation Dataset**"
      ],
      "metadata": {
        "id": "cEDum12CALn9"
      }
    },
    {
      "cell_type": "code",
      "source": [
        "dev_en = open(\"/content/drive/MyDrive/NLP_Assg2/data/data/dev.en\").read()\n",
        "dev_my = open(\"/content/drive/MyDrive/NLP_Assg2/data/data/dev.my\").read()\n",
        "dev_cl = open(\"/content/drive/MyDrive/NLP_Assg2/data/data/dev.cl\").read()"
      ],
      "metadata": {
        "id": "EPwt0OftALPb"
      },
      "execution_count": null,
      "outputs": []
    },
    {
      "cell_type": "code",
      "source": [
        "# Convert strings into list\n",
        "dev_en = list(train_en.splitlines())\n",
        "dev_my = list(train_my.splitlines())\n",
        "dev_cl = list(train_cl.splitlines())"
      ],
      "metadata": {
        "id": "tA3O03YdAZhJ"
      },
      "execution_count": null,
      "outputs": []
    },
    {
      "cell_type": "code",
      "source": [
        "# model_nn.fit([train_en_sequences, train_my_sequences], np.array(train_cl).astype(int), epochs=5, batch_size=32, callbacks=[checkpoint])"
      ],
      "metadata": {
        "id": "Asl10C5x7I6u"
      },
      "execution_count": null,
      "outputs": []
    }
  ],
  "metadata": {
    "colab": {
      "provenance": [],
      "mount_file_id": "18SM_PL1Dnywr10J6q5Yy-FceFzIkhhQQ",
      "authorship_tag": "ABX9TyOkY9rOtHS5NByrog0ZfsEn",
      "include_colab_link": true
    },
    "kernelspec": {
      "display_name": "Python 3",
      "name": "python3"
    },
    "language_info": {
      "name": "python"
    },
    "accelerator": "GPU",
    "gpuClass": "standard"
  },
  "nbformat": 4,
  "nbformat_minor": 0
}